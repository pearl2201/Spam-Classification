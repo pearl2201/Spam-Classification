{
 "cells": [
  {
   "cell_type": "code",
   "execution_count": 2,
   "metadata": {},
   "outputs": [
    {
     "name": "stderr",
     "output_type": "stream",
     "text": [
      "c:\\users\\admin\\appdata\\local\\programs\\python\\python35\\lib\\site-packages\\h5py\\__init__.py:36: FutureWarning: Conversion of the second argument of issubdtype from `float` to `np.floating` is deprecated. In future, it will be treated as `np.float64 == np.dtype(float).type`.\n",
      "  from ._conv import register_converters as _register_converters\n",
      "Using TensorFlow backend.\n"
     ]
    }
   ],
   "source": [
    "# -*- coding: utf-8 -*-\n",
    "import pandas\n",
    "import nltk\n",
    "from nltk.corpus import stopwords\n",
    "import string\n",
    "from keras.models import Sequential\n",
    "from keras.layers import Dense\n",
    "import numpy as np"
   ]
  },
  {
   "cell_type": "code",
   "execution_count": 3,
   "metadata": {},
   "outputs": [
    {
     "name": "stdout",
     "output_type": "stream",
     "text": [
      "words count: 11740\n",
      "read_data_finish\n"
     ]
    }
   ],
   "source": [
    "data = pandas.read_csv(\"spam.csv\",encoding=\"latin-1\")\n",
    "bag_of_words = set([])\n",
    "stop = list(string.punctuation ) + stopwords.words('english')\n",
    "dataword = [[word for word in nltk.word_tokenize(sentence) if word not in stop] for sentence in data.v2]\n",
    "bag_of_words = set([])\n",
    "for sentence in dataword:\n",
    "\tfor word in sentence:\n",
    "\t\tbag_of_words.add(word)\n",
    "print (\"words count: %d\" %len(bag_of_words))\n",
    "bag_of_words = list(bag_of_words)\n",
    "\t\t\t\n",
    "print (\"read_data_finish\")"
   ]
  },
  {
   "cell_type": "code",
   "execution_count": 4,
   "metadata": {},
   "outputs": [],
   "source": [
    "\n",
    "def convertColumnToY(data):\n",
    "\treturn [0 if x=='ham' else 1 for x in data ]\n",
    "\n",
    "def convertColumnToX(bag_of_words,data):\n",
    "\tprint (\"Convert X data\")\n",
    "\t\n",
    "\t\n",
    "\tX = []\n",
    "\tcount = 0\n",
    "\tfor sentence in data:\n",
    "\t\tvectorize = []\n",
    "\t\t\n",
    "\t\tfor index_bag_of_words in range(len(bag_of_words)):\n",
    "\t\t\tif bag_of_words[index_bag_of_words] in sentence:\n",
    "\t\t\t\t\n",
    "\t\t\t\tvectorize.append(1)\n",
    "\t\t\telse:\n",
    "\t\t\t\tvectorize.append(0)\n",
    "\t\tX.append(vectorize)\n",
    "\t\t\n",
    "\t\tcount = count + 1\n",
    "\treturn X"
   ]
  },
  {
   "cell_type": "code",
   "execution_count": 5,
   "metadata": {},
   "outputs": [],
   "source": [
    "train_data = data[:4000]\n",
    "test_data = data[4000:]"
   ]
  },
  {
   "cell_type": "code",
   "execution_count": 6,
   "metadata": {},
   "outputs": [
    {
     "name": "stdout",
     "output_type": "stream",
     "text": [
      "Convert X data\n",
      "Convert X data\n",
      "Split data X finish\n"
     ]
    }
   ],
   "source": [
    "X_train= convertColumnToX(bag_of_words,train_data.v2)\n",
    "X_test= convertColumnToX(bag_of_words,test_data.v2)\n",
    "X_test = np.array(X_test)\n",
    "X_train = np.array(X_train)\n",
    "\n",
    "print (\"Split data X finish\")"
   ]
  },
  {
   "cell_type": "code",
   "execution_count": 7,
   "metadata": {},
   "outputs": [
    {
     "data": {
      "text/plain": [
       "array([[1., 0.],\n",
       "       [1., 0.],\n",
       "       [0., 1.],\n",
       "       ...,\n",
       "       [0., 1.],\n",
       "       [1., 0.],\n",
       "       [0., 1.]], dtype=float32)"
      ]
     },
     "execution_count": 7,
     "metadata": {},
     "output_type": "execute_result"
    }
   ],
   "source": [
    "import keras\n",
    "batch_size = 128\n",
    "num_classes = 2\n",
    "epochs = 20\n",
    "\n",
    "y_train = convertColumnToY(train_data.v1)\n",
    "y_test = convertColumnToY(test_data.v1)\n",
    "y_train = keras.utils.to_categorical(y_train, num_classes)\n",
    "y_test = keras.utils.to_categorical(y_test, num_classes)\n",
    "y_train"
   ]
  },
  {
   "cell_type": "code",
   "execution_count": 8,
   "metadata": {},
   "outputs": [
    {
     "name": "stdout",
     "output_type": "stream",
     "text": [
      "_________________________________________________________________\n",
      "Layer (type)                 Output Shape              Param #   \n",
      "=================================================================\n",
      "dense_1 (Dense)              (None, 2)                 23482     \n",
      "=================================================================\n",
      "Total params: 23,482\n",
      "Trainable params: 23,482\n",
      "Non-trainable params: 0\n",
      "_________________________________________________________________\n",
      "Train on 4000 samples, validate on 1572 samples\n",
      "Epoch 1/20\n",
      "4000/4000 [==============================] - 4s 974us/step - loss: 0.4352 - acc: 0.8910 - val_loss: 0.3128 - val_acc: 0.9281\n",
      "Epoch 2/20\n",
      "4000/4000 [==============================] - 2s 446us/step - loss: 0.2470 - acc: 0.9583 - val_loss: 0.2113 - val_acc: 0.9504\n",
      "Epoch 3/20\n",
      "4000/4000 [==============================] - 2s 452us/step - loss: 0.1661 - acc: 0.9753 - val_loss: 0.1546 - val_acc: 0.9676\n",
      "Epoch 4/20\n",
      "4000/4000 [==============================] - 2s 469us/step - loss: 0.1201 - acc: 0.9795 - val_loss: 0.1222 - val_acc: 0.9726\n",
      "Epoch 5/20\n",
      "4000/4000 [==============================] - 2s 464us/step - loss: 0.0931 - acc: 0.9822 - val_loss: 0.1013 - val_acc: 0.9771\n",
      "Epoch 6/20\n",
      "4000/4000 [==============================] - 2s 557us/step - loss: 0.0750 - acc: 0.9860 - val_loss: 0.0877 - val_acc: 0.9796\n",
      "Epoch 7/20\n",
      "4000/4000 [==============================] - 2s 531us/step - loss: 0.0624 - acc: 0.9885 - val_loss: 0.0777 - val_acc: 0.9803\n",
      "Epoch 8/20\n",
      "4000/4000 [==============================] - 2s 535us/step - loss: 0.0533 - acc: 0.9892 - val_loss: 0.0689 - val_acc: 0.9835\n",
      "Epoch 9/20\n",
      "4000/4000 [==============================] - 2s 556us/step - loss: 0.0462 - acc: 0.9918 - val_loss: 0.0642 - val_acc: 0.9847\n",
      "Epoch 10/20\n",
      "4000/4000 [==============================] - 2s 536us/step - loss: 0.0406 - acc: 0.9925 - val_loss: 0.0594 - val_acc: 0.9860\n",
      "Epoch 11/20\n",
      "4000/4000 [==============================] - 2s 524us/step - loss: 0.0361 - acc: 0.9930 - val_loss: 0.0565 - val_acc: 0.9860\n",
      "Epoch 12/20\n",
      "4000/4000 [==============================] - 2s 549us/step - loss: 0.0324 - acc: 0.9938 - val_loss: 0.0542 - val_acc: 0.9873\n",
      "Epoch 13/20\n",
      "4000/4000 [==============================] - 2s 546us/step - loss: 0.0294 - acc: 0.9940 - val_loss: 0.0515 - val_acc: 0.9885\n",
      "Epoch 14/20\n",
      "4000/4000 [==============================] - 3s 659us/step - loss: 0.0267 - acc: 0.9952 - val_loss: 0.0509 - val_acc: 0.9879\n",
      "Epoch 15/20\n",
      "4000/4000 [==============================] - 2s 595us/step - loss: 0.0244 - acc: 0.9952 - val_loss: 0.0500 - val_acc: 0.9879\n",
      "Epoch 16/20\n",
      "4000/4000 [==============================] - 2s 537us/step - loss: 0.0223 - acc: 0.9952 - val_loss: 0.0495 - val_acc: 0.9879\n",
      "Epoch 17/20\n",
      "4000/4000 [==============================] - 3s 652us/step - loss: 0.0204 - acc: 0.9955 - val_loss: 0.0483 - val_acc: 0.9892\n",
      "Epoch 18/20\n",
      "4000/4000 [==============================] - 2s 517us/step - loss: 0.0187 - acc: 0.9958 - val_loss: 0.0482 - val_acc: 0.9892\n",
      "Epoch 19/20\n",
      "4000/4000 [==============================] - 2s 472us/step - loss: 0.0173 - acc: 0.9958 - val_loss: 0.0470 - val_acc: 0.9892\n",
      "Epoch 20/20\n",
      "4000/4000 [==============================] - 2s 503us/step - loss: 0.0159 - acc: 0.9965 - val_loss: 0.0461 - val_acc: 0.9892\n",
      "train finish\n"
     ]
    }
   ],
   "source": [
    "from keras.layers import Dense, Dropout\n",
    "from keras.optimizers import RMSprop\n",
    "\n",
    "model = Sequential()\n",
    "\n",
    "model.add(Dense(units=2, activation='softmax',input_dim=len(bag_of_words)))\n",
    "\n",
    "model.summary()\n",
    "\n",
    "model.compile(loss='categorical_crossentropy',\n",
    "              optimizer=RMSprop(),\n",
    "              metrics=['accuracy'])\n",
    "\n",
    "history = model.fit(X_train, y_train,\n",
    "                    batch_size=batch_size,\n",
    "                    epochs=epochs,\n",
    "                    verbose=1,\n",
    "                    validation_data=(X_test, y_test))\n",
    "print(\"train finish\")\n"
   ]
  },
  {
   "cell_type": "code",
   "execution_count": 9,
   "metadata": {},
   "outputs": [
    {
     "name": "stdout",
     "output_type": "stream",
     "text": [
      "Test loss: 0.04611650643675913\n",
      "Test accuracy: 0.9891857506361323\n"
     ]
    }
   ],
   "source": [
    "score = model.evaluate(X_test, y_test, verbose=0)\n",
    "print('Test loss:', score[0])\n",
    "print('Test accuracy:', score[1])\n"
   ]
  },
  {
   "cell_type": "code",
   "execution_count": 31,
   "metadata": {},
   "outputs": [],
   "source": [
    "predicts = model.predict(X_test, batch_size=128, verbose=0)\n",
    "predicts = [[0,1] if x[0]<0.5 else [1,0] for x in predicts] #inverse one hot to index value\n",
    "\n"
   ]
  },
  {
   "cell_type": "code",
   "execution_count": 32,
   "metadata": {},
   "outputs": [],
   "source": [
    "#region export result\n",
    "import csv\n",
    "csv_arr = []\n",
    "for index in range(len(test_data)):\n",
    "    ans = test_data.v1[index + 4000]\n",
    "    if predicts[index] == [0,1]:\n",
    "        result = 'spam'\n",
    "    else:\n",
    "        result = 'ham'\n",
    "    csv_arr.append([len(csv_arr), ans,result, ans==result])\n",
    "\n",
    "with open('test_score_short.csv', 'w', newline='',encoding='utf-8') as csvfile:\n",
    "    spamwriter = csv.writer(csvfile, delimiter=';',\n",
    "            quotechar='\"', quoting=csv.QUOTE_MINIMAL)\n",
    "    spamwriter.writerow(['#', 'ans','predict','result'])\n",
    "\n",
    "    for row in csv_arr:\n",
    "        \n",
    "        spamwriter.writerow(row)"
   ]
  },
  {
   "cell_type": "code",
   "execution_count": null,
   "metadata": {},
   "outputs": [],
   "source": []
  }
 ],
 "metadata": {
  "kernelspec": {
   "display_name": "Python 3",
   "language": "python",
   "name": "python3"
  },
  "language_info": {
   "codemirror_mode": {
    "name": "ipython",
    "version": 3
   },
   "file_extension": ".py",
   "mimetype": "text/x-python",
   "name": "python",
   "nbconvert_exporter": "python",
   "pygments_lexer": "ipython3",
   "version": "3.5.2"
  }
 },
 "nbformat": 4,
 "nbformat_minor": 2
}
